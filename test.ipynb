{
 "cells": [
  {
   "cell_type": "code",
   "execution_count": 11,
   "metadata": {},
   "outputs": [],
   "source": [
    "# Step 1: Import necessary modules\n",
    "from qiskit import QuantumCircuit, QuantumRegister, ClassicalRegister, transpile, assemble\n",
    "from qiskit_aer import AerSimulator\n",
    "from qiskit.visualization import plot_histogram\n",
    "import numpy as np\n",
    "\n",
    "# Step 2: Define the qft function\n",
    "def qft(n, invert, reverse):\n",
    "    qc = QuantumCircuit(n)\n",
    "    for i in reversed(range(n)):\n",
    "        qc.h(i)\n",
    "        for j in reversed(range(i)):\n",
    "            qc.cp(np.pi * (2.0 ** (j - i)), j, i)\n",
    "    if reverse:\n",
    "        for i in range(n // 2):\n",
    "            qc.swap(i, n - i - 1)\n",
    "    if invert:\n",
    "        qc = qc.inverse()\n",
    "    return qc\n",
    "\n",
    "# Step 3: Define the adder function\n",
    "def adder(a: QuantumRegister, b: QuantumRegister):\n",
    "    n = len(a)\n",
    "    qc = QuantumCircuit(a, b)\n",
    "    qc.append(qft(n, invert=False, reverse=False).to_gate(), b)\n",
    "    for j in range(n):\n",
    "        for k in range(j + 1):\n",
    "            qc.cp(2 * np.pi / (2 ** (j - k + 1)), a[k], b[j])\n",
    "    qc.append(qft(n, invert=True, reverse=False).to_gate(), b)\n",
    "    return qc\n"
   ]
  },
  {
   "cell_type": "code",
   "execution_count": 21,
   "metadata": {},
   "outputs": [
    {
     "name": "stdout",
     "output_type": "stream",
     "text": [
      "Measurement result (binary): 1110\n"
     ]
    }
   ],
   "source": [
    "a = 7\n",
    "b = 7\n",
    "n = 4\n",
    "\n",
    "qr_a = QuantumRegister(n)\n",
    "qr_b = QuantumRegister(n)\n",
    "\n",
    "cr = ClassicalRegister(n, 'cr')\n",
    "\n",
    "qc = QuantumCircuit(qr_a, qr_b, cr)\n",
    "\n",
    "for i in range(n):\n",
    "    if a & (1 << i):\n",
    "        qc.x(qr_a[i])\n",
    "        \n",
    "for i in range(n):\n",
    "    if b & (1 << i):\n",
    "        qc.x(qr_b[i])\n",
    "\n",
    "qc.compose(adder(qr_a, qr_b), inplace=True)\n",
    "\n",
    "qc.measure(qr_b, cr)\n",
    "\n",
    "# Execute the circuit\n",
    "sim = AerSimulator()\n",
    "t_qc = transpile(qc, sim)\n",
    "result = sim.run(t_qc, shots=1, memory=True).result()\n",
    "counts = result.get_memory()[0]\n",
    "\n",
    "print(\"Measurement result (binary):\", counts)"
   ]
  }
 ],
 "metadata": {
  "kernelspec": {
   "display_name": "QuantumCompression-5FNXATBK",
   "language": "python",
   "name": "python3"
  },
  "language_info": {
   "codemirror_mode": {
    "name": "ipython",
    "version": 3
   },
   "file_extension": ".py",
   "mimetype": "text/x-python",
   "name": "python",
   "nbconvert_exporter": "python",
   "pygments_lexer": "ipython3",
   "version": "3.11.4"
  }
 },
 "nbformat": 4,
 "nbformat_minor": 2
}
